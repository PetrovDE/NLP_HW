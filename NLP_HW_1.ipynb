{
 "cells": [
  {
   "cell_type": "code",
   "execution_count": 5,
   "metadata": {},
   "outputs": [
    {
     "name": "stderr",
     "output_type": "stream",
     "text": [
      "[nltk_data] Downloading package stopwords to\n",
      "[nltk_data]     C:\\Users\\Elyma\\AppData\\Roaming\\nltk_data...\n",
      "[nltk_data]   Package stopwords is already up-to-date!\n"
     ]
    },
    {
     "data": {
      "text/plain": [
       "True"
      ]
     },
     "execution_count": 5,
     "metadata": {},
     "output_type": "execute_result"
    }
   ],
   "source": [
    "import pandas as pd\n",
    "import numpy as np\n",
    "import re\n",
    "import string\n",
    "\n",
    "import nltk\n",
    "from nltk.corpus import stopwords\n",
    "\n",
    "from sklearn.feature_extraction.text import TfidfVectorizer\n",
    "from sklearn.metrics.pairwise import cosine_similarity\n",
    "from sklearn.metrics.pairwise import linear_kernel\n",
    "\n",
    "import gensim\n",
    "import gensim.downloader\n",
    "from gensim.models import word2vec, KeyedVectors\n",
    "\n",
    "nltk.download(\"stopwords\")"
   ]
  },
  {
   "cell_type": "code",
   "execution_count": 6,
   "metadata": {},
   "outputs": [],
   "source": [
    "df = pd.read_csv(\"data/sample-data.csv\")\n"
   ]
  },
  {
   "cell_type": "code",
   "execution_count": 7,
   "metadata": {},
   "outputs": [
    {
     "data": {
      "text/html": [
       "<div>\n",
       "<style scoped>\n",
       "    .dataframe tbody tr th:only-of-type {\n",
       "        vertical-align: middle;\n",
       "    }\n",
       "\n",
       "    .dataframe tbody tr th {\n",
       "        vertical-align: top;\n",
       "    }\n",
       "\n",
       "    .dataframe thead th {\n",
       "        text-align: right;\n",
       "    }\n",
       "</style>\n",
       "<table border=\"1\" class=\"dataframe\">\n",
       "  <thead>\n",
       "    <tr style=\"text-align: right;\">\n",
       "      <th></th>\n",
       "      <th>id</th>\n",
       "      <th>description</th>\n",
       "    </tr>\n",
       "  </thead>\n",
       "  <tbody>\n",
       "    <tr>\n",
       "      <th>0</th>\n",
       "      <td>1</td>\n",
       "      <td>Active classic boxers - There's a reason why o...</td>\n",
       "    </tr>\n",
       "    <tr>\n",
       "      <th>1</th>\n",
       "      <td>2</td>\n",
       "      <td>Active sport boxer briefs - Skinning up Glory ...</td>\n",
       "    </tr>\n",
       "    <tr>\n",
       "      <th>2</th>\n",
       "      <td>3</td>\n",
       "      <td>Active sport briefs - These superbreathable no...</td>\n",
       "    </tr>\n",
       "    <tr>\n",
       "      <th>3</th>\n",
       "      <td>4</td>\n",
       "      <td>Alpine guide pants - Skin in, climb ice, switc...</td>\n",
       "    </tr>\n",
       "    <tr>\n",
       "      <th>4</th>\n",
       "      <td>5</td>\n",
       "      <td>Alpine wind jkt - On high ridges, steep ice an...</td>\n",
       "    </tr>\n",
       "    <tr>\n",
       "      <th>5</th>\n",
       "      <td>6</td>\n",
       "      <td>Ascensionist jkt - Our most technical soft she...</td>\n",
       "    </tr>\n",
       "    <tr>\n",
       "      <th>6</th>\n",
       "      <td>7</td>\n",
       "      <td>Atom - A multitasker's cloud nine, the Atom pl...</td>\n",
       "    </tr>\n",
       "    <tr>\n",
       "      <th>7</th>\n",
       "      <td>8</td>\n",
       "      <td>Print banded betina btm - Our fullest coverage...</td>\n",
       "    </tr>\n",
       "    <tr>\n",
       "      <th>8</th>\n",
       "      <td>9</td>\n",
       "      <td>Baby micro d-luxe cardigan - Micro D-Luxe is a...</td>\n",
       "    </tr>\n",
       "    <tr>\n",
       "      <th>9</th>\n",
       "      <td>10</td>\n",
       "      <td>Baby sun bucket hat - This hat goes on when th...</td>\n",
       "    </tr>\n",
       "  </tbody>\n",
       "</table>\n",
       "</div>"
      ],
      "text/plain": [
       "   id                                        description\n",
       "0   1  Active classic boxers - There's a reason why o...\n",
       "1   2  Active sport boxer briefs - Skinning up Glory ...\n",
       "2   3  Active sport briefs - These superbreathable no...\n",
       "3   4  Alpine guide pants - Skin in, climb ice, switc...\n",
       "4   5  Alpine wind jkt - On high ridges, steep ice an...\n",
       "5   6  Ascensionist jkt - Our most technical soft she...\n",
       "6   7  Atom - A multitasker's cloud nine, the Atom pl...\n",
       "7   8  Print banded betina btm - Our fullest coverage...\n",
       "8   9  Baby micro d-luxe cardigan - Micro D-Luxe is a...\n",
       "9  10  Baby sun bucket hat - This hat goes on when th..."
      ]
     },
     "execution_count": 7,
     "metadata": {},
     "output_type": "execute_result"
    }
   ],
   "source": [
    "df.head(10)\n"
   ]
  },
  {
   "cell_type": "markdown",
   "metadata": {},
   "source": [
    "### Чистим данные от мусора и стоп слов"
   ]
  },
  {
   "cell_type": "code",
   "execution_count": 8,
   "metadata": {},
   "outputs": [],
   "source": [
    "def text_clear_from_garb(text_pd, stop_chars, stop_words):\n",
    "    text_pd = text_pd.apply(\n",
    "        lambda x: re.compile(r\"https?://\\S+|www\\.\\S+\").sub(r\" \", x)\n",
    "    )  # clear urls\n",
    "    text_pd = text_pd.apply(lambda x: re.compile(r\"<.*?>\").sub(r\" \", x))  # clear html\n",
    "    text_pd = text_pd.apply(lambda x: x.lower())  # lowercase\n",
    "    text_pd = text_pd.apply(\n",
    "        lambda x: \"\".join([ch for ch in x if ch not in stop_chars])\n",
    "    )  # clear stop chard\n",
    "    text_pd = text_pd.apply(\n",
    "        lambda x: \"\".join([ch for ch in x if ch not in string.digits])\n",
    "    )  # clear digits\n",
    "    text_pd = text_pd.apply(lambda x: \" \".join(x.split()))  # clear spase\n",
    "    text_pd = text_pd.apply(\n",
    "        lambda x: \" \".join([word for word in str(x).split() if word not in stop_words])\n",
    "    )\n",
    "    return text_pd"
   ]
  },
  {
   "cell_type": "code",
   "execution_count": 9,
   "metadata": {},
   "outputs": [],
   "source": [
    "stop_chars = string.punctuation\n",
    "stop_words = stopwords.words(\"english\")\n",
    "df[\"description_clear\"] = text_clear_from_garb(\n",
    "    df[\"description\"], stop_chars=stop_chars, stop_words=stop_words\n",
    ")"
   ]
  },
  {
   "cell_type": "markdown",
   "metadata": {},
   "source": [
    "### Функции для подбора наиболее похожих товаров"
   ]
  },
  {
   "cell_type": "code",
   "execution_count": 93,
   "metadata": {},
   "outputs": [],
   "source": [
    "def item_name(item_id):\n",
    "    # find name of item by cuting left size before first pattern (space-space)\n",
    "    result = df.loc[df[\"id\"] == item_id][\"description\"].tolist()[0].split(\" - \")[0]\n",
    "    return result\n",
    "\n",
    "\n",
    "def recomendation(cos_matirx, item_id, num):\n",
    "    # get cosine matrix, item_id and number of items to get recomendation\n",
    "    index = df.index[df[\"id\"] == item_id].to_list()[0]  # get index of item in cosine_matrix\n",
    "    same_index = cos_matirx[index].argsort()[: -(num + 2) : -1]  # get index of same items\n",
    "    print(f\"Топ {num} товаров, похожих на {item_name(item_id)}, (id: {item_id})\")\n",
    "    for s_index in same_index[1:]:\n",
    "        print(\n",
    "            f\"Товар {item_name(df['id'][s_index])}, уровень совпадения: {cos_matirx[index][s_index]}, (id: {s_index})\"\n",
    "        )\n",
    "\n",
    "\n",
    "def get_same(cos_matirx, item_id, num):\n",
    "    # return list of items to build out_file in csv\n",
    "    index = df.index[df[\"id\"] == item_id].to_list()[0]  # get index of item in cosine_matrix\n",
    "    same_index = cos_matirx[index].argsort()[: -(num + 2) : -1]  # get index of same items\n",
    "    out_list = [item_name(item_id)]\n",
    "    for s_index in same_index[1:]:\n",
    "        out_list.append(\n",
    "            f\"{item_name(df['id'][s_index])}|уровень: {cos_matirx[index][s_index]:5f}| id: {s_index}\"\n",
    "        )\n",
    "    return out_list"
   ]
  },
  {
   "cell_type": "markdown",
   "metadata": {},
   "source": [
    "### Тексты в TFIDF"
   ]
  },
  {
   "cell_type": "code",
   "execution_count": 11,
   "metadata": {},
   "outputs": [
    {
     "data": {
      "text/plain": [
       "(500, 25000)"
      ]
     },
     "execution_count": 11,
     "metadata": {},
     "output_type": "execute_result"
    }
   ],
   "source": [
    "# tokenazier initial\n",
    "tfidf_vec = TfidfVectorizer(\n",
    "    analyzer=\"word\",\n",
    "    ngram_range=(1, 3),\n",
    "    min_df=0,\n",
    "    stop_words=\"english\",\n",
    "    binary=True,\n",
    "    max_features=25000,\n",
    ")\n",
    "\n",
    "# embedings\n",
    "tfidf_embed = tfidf_vec.fit_transform(df[\"description_clear\"])\n",
    "\n",
    "# check shape\n",
    "tfidf_embed.shape"
   ]
  },
  {
   "cell_type": "code",
   "execution_count": 12,
   "metadata": {},
   "outputs": [
    {
     "name": "stdout",
     "output_type": "stream",
     "text": [
      "Топ 3 товаров, похожих на Active sport briefs, (id: 3)\n",
      "Товар Active sport boxer briefs, уровень совпадения: 0.5288292850724223, (id: 1)\n",
      "Товар Active briefs, уровень совпадения: 0.1247423393742939, (id: 299)\n",
      "Товар Active boy shorts, уровень совпадения: 0.11137538822540924, (id: 298)\n",
      "----------\n",
      "Топ 3 товаров, похожих на Alpine guide pants, (id: 4)\n",
      "Товар Alpine guide pants, уровень совпадения: 0.900038434073977, (id: 158)\n",
      "Товар Guide jkt, уровень совпадения: 0.1240670307783811, (id: 183)\n",
      "Товар Rock guide pants, уровень совпадения: 0.11773548636640709, (id: 342)\n",
      "----------\n",
      "Топ 3 товаров, похожих на Atom, (id: 7)\n",
      "Товар Pocket pack, уровень совпадения: 0.2901524646556511, (id: 103)\n",
      "Товар Hip pack, уровень совпадения: 0.26797964888901704, (id: 402)\n",
      "Товар Single shot, уровень совпадения: 0.2068941619576152, (id: 353)\n",
      "----------\n",
      "Топ 3 товаров, похожих на El cap jkt, (id: 62)\n",
      "Товар El cap jkt, уровень совпадения: 0.17654939935627162, (id: 179)\n",
      "Товар Synch marsupial, уровень совпадения: 0.11998577978406498, (id: 65)\n",
      "Товар Baby synch cardigan, уровень совпадения: 0.10426043452681899, (id: 473)\n",
      "----------\n"
     ]
    }
   ],
   "source": [
    "cos_matrix = linear_kernel(tfidf_embed, tfidf_embed)\n",
    "ids = [3, 4, 7, 62]\n",
    "num = 3\n",
    "for id in ids:\n",
    "    recomendation(cos_matirx=cos_matrix, item_id=id, num=num)\n",
    "    print('----------')"
   ]
  },
  {
   "cell_type": "markdown",
   "metadata": {},
   "source": [
    "### Тексты в vord2vec"
   ]
  },
  {
   "cell_type": "code",
   "execution_count": 13,
   "metadata": {},
   "outputs": [],
   "source": [
    "word_embedings = gensim.downloader.load(\"glove-wiki-gigaword-300\")"
   ]
  },
  {
   "cell_type": "code",
   "execution_count": 14,
   "metadata": {},
   "outputs": [],
   "source": [
    "texts = df[\"description_clear\"].values\n",
    "\n",
    "embed_matrix = np.zeros((len(texts), word_embedings.vector_size))\n",
    "\n",
    "for ind, text in enumerate(texts):\n",
    "    mean_word2vec = np.zeros(word_embedings.vector_size)\n",
    "    num_words = 0\n",
    "    tokenized_text = text\n",
    "    # get embeding of words in doc\n",
    "    for word in tokenized_text:\n",
    "        try:  # pass the error if word not in word_embedings\n",
    "            mean_word2vec += word_embedings[word]\n",
    "            num_words += 1\n",
    "        except:\n",
    "            pass\n",
    "    embed_matrix[ind] = mean_word2vec / num_words\n",
    "    # normalize final vector\n",
    "    embed_matrix[ind] = embed_matrix[ind] / np.sqrt(np.sum(embed_matrix[ind] ** 2))"
   ]
  },
  {
   "cell_type": "code",
   "execution_count": 15,
   "metadata": {},
   "outputs": [
    {
     "name": "stdout",
     "output_type": "stream",
     "text": [
      "Топ 3 товаров, похожих на Active sport briefs, (id: 3)\n",
      "Товар Active sport boxer briefs, уровень совпадения: 0.999149554998185, (id: 1)\n",
      "Товар Borderless shorts, уровень совпадения: 0.9991470523848172, (id: 328)\n",
      "Товар Drift shirt, уровень совпадения: 0.9990215582293205, (id: 282)\n",
      "----------\n",
      "Топ 3 товаров, похожих на Alpine guide pants, (id: 4)\n",
      "Товар Alpine guide pants, уровень совпадения: 0.9999279022317773, (id: 158)\n",
      "Товар Rock guide pants, уровень совпадения: 0.9995143758238204, (id: 342)\n",
      "Товар Nine trails shorts, уровень совпадения: 0.9993655161871461, (id: 96)\n",
      "----------\n",
      "Топ 3 товаров, похожих на Atom, (id: 7)\n",
      "Товар Mlc, уровень совпадения: 0.9995422284133677, (id: 429)\n",
      "Товар Crosstown, уровень совпадения: 0.9993000184782383, (id: 30)\n",
      "Товар Mlc wheelie, уровень совпадения: 0.9992764819559367, (id: 93)\n",
      "----------\n",
      "Топ 3 товаров, похожих на El cap jkt, (id: 62)\n",
      "Товар El cap jkt, уровень совпадения: 0.9993184357661502, (id: 179)\n",
      "Товар Aravis jkt, уровень совпадения: 0.9992554058128482, (id: 160)\n",
      "Товар Live simply guitar t-shirt, уровень совпадения: 0.999146268802217, (id: 72)\n",
      "----------\n"
     ]
    }
   ],
   "source": [
    "cos_matrixv2c = linear_kernel(embed_matrix, embed_matrix)\n",
    "ids = [3, 4, 7, 62]\n",
    "num = 3\n",
    "for id in ids:\n",
    "    recomendation(cos_matirx=cos_matrixv2c, item_id=id, num=num)\n",
    "    print(\"----------\")"
   ]
  },
  {
   "cell_type": "markdown",
   "metadata": {},
   "source": [
    "### TF-IDF vs Word2Vec"
   ]
  },
  {
   "cell_type": "code",
   "execution_count": 74,
   "metadata": {},
   "outputs": [
    {
     "name": "stdout",
     "output_type": "stream",
     "text": [
      "TF-IDF\n",
      "Топ 3 товаров, похожих на Active sport briefs, (id: 3)\n",
      "Товар Active sport boxer briefs, уровень совпадения: 0.5288292850724223, (id: 1)\n",
      "Товар Active briefs, уровень совпадения: 0.1247423393742939, (id: 299)\n",
      "Товар Active boy shorts, уровень совпадения: 0.11137538822540924, (id: 298)\n",
      "----------\n",
      "Word2Vec\n",
      "Топ 3 товаров, похожих на Active sport briefs, (id: 3)\n",
      "Товар Active sport boxer briefs, уровень совпадения: 0.999149554998185, (id: 1)\n",
      "Товар Borderless shorts, уровень совпадения: 0.9991470523848172, (id: 328)\n",
      "Товар Drift shirt, уровень совпадения: 0.9990215582293205, (id: 282)\n",
      "----------\n",
      "TF-IDF\n",
      "Топ 3 товаров, похожих на Alpine guide pants, (id: 4)\n",
      "Товар Alpine guide pants, уровень совпадения: 0.900038434073977, (id: 158)\n",
      "Товар Guide jkt, уровень совпадения: 0.1240670307783811, (id: 183)\n",
      "Товар Rock guide pants, уровень совпадения: 0.11773548636640709, (id: 342)\n",
      "----------\n",
      "Word2Vec\n",
      "Топ 3 товаров, похожих на Alpine guide pants, (id: 4)\n",
      "Товар Alpine guide pants, уровень совпадения: 0.9999279022317773, (id: 158)\n",
      "Товар Rock guide pants, уровень совпадения: 0.9995143758238204, (id: 342)\n",
      "Товар Nine trails shorts, уровень совпадения: 0.9993655161871461, (id: 96)\n",
      "----------\n",
      "TF-IDF\n",
      "Топ 3 товаров, похожих на Atom, (id: 7)\n",
      "Товар Pocket pack, уровень совпадения: 0.2901524646556511, (id: 103)\n",
      "Товар Hip pack, уровень совпадения: 0.26797964888901704, (id: 402)\n",
      "Товар Single shot, уровень совпадения: 0.2068941619576152, (id: 353)\n",
      "----------\n",
      "Word2Vec\n",
      "Топ 3 товаров, похожих на Atom, (id: 7)\n",
      "Товар Mlc, уровень совпадения: 0.9995422284133677, (id: 429)\n",
      "Товар Crosstown, уровень совпадения: 0.9993000184782383, (id: 30)\n",
      "Товар Mlc wheelie, уровень совпадения: 0.9992764819559367, (id: 93)\n",
      "----------\n",
      "TF-IDF\n",
      "Топ 3 товаров, похожих на El cap jkt, (id: 62)\n",
      "Товар El cap jkt, уровень совпадения: 0.17654939935627162, (id: 179)\n",
      "Товар Synch marsupial, уровень совпадения: 0.11998577978406498, (id: 65)\n",
      "Товар Baby synch cardigan, уровень совпадения: 0.10426043452681899, (id: 473)\n",
      "----------\n",
      "Word2Vec\n",
      "Топ 3 товаров, похожих на El cap jkt, (id: 62)\n",
      "Товар El cap jkt, уровень совпадения: 0.9993184357661502, (id: 179)\n",
      "Товар Aravis jkt, уровень совпадения: 0.9992554058128482, (id: 160)\n",
      "Товар Live simply guitar t-shirt, уровень совпадения: 0.999146268802217, (id: 72)\n",
      "----------\n"
     ]
    }
   ],
   "source": [
    "ids = [3, 4, 7, 62]\n",
    "num = 3\n",
    "for id in ids:\n",
    "    print(\"TF-IDF\")\n",
    "    recomendation(cos_matirx=cos_matrix, item_id=id, num=num)\n",
    "    print(\"----------\")\n",
    "    print(\"Word2Vec\")\n",
    "    recomendation(cos_matirx=cos_matrixv2c, item_id=id, num=num)\n",
    "    print(\"----------\")"
   ]
  },
  {
   "cell_type": "markdown",
   "metadata": {},
   "source": [
    "### Формируем файлы с предсказаниями"
   ]
  },
  {
   "cell_type": "code",
   "execution_count": 95,
   "metadata": {},
   "outputs": [],
   "source": [
    "### TF-IDF file constuct\n",
    "\n",
    "get_outs = list()\n",
    "for id in df['id'].values:\n",
    "    get_outs.append(get_same(cos_matirx=cos_matrix, item_id=id, num=num))\n",
    "\n",
    "columns_list = ['Item_name']\n",
    "for cols in range(num):\n",
    "    columns_list.append(f'Item number {cols+1}')\n",
    "tfidf_df = pd.DataFrame(\n",
    "    data=get_outs,\n",
    "    columns=columns_list\n",
    ")\n",
    "tfidf_df.to_csv('data/tfidf_out.csv', encoding='utf8')"
   ]
  },
  {
   "cell_type": "code",
   "execution_count": 96,
   "metadata": {},
   "outputs": [],
   "source": [
    "### word2vec file constuct\n",
    "\n",
    "get_outs = list()\n",
    "for id in df['id'].values:\n",
    "    get_outs.append(get_same(cos_matirx=cos_matrixv2c, item_id=id, num=num))\n",
    "\n",
    "columns_list = ['Item_name']\n",
    "for cols in range(num):\n",
    "    columns_list.append(f'Item number {cols+1}')\n",
    "tfidf_df = pd.DataFrame(\n",
    "    data=get_outs,\n",
    "    columns=columns_list\n",
    ")\n",
    "tfidf_df.to_csv('data/word2vec_out.csv', encoding='utf8')"
   ]
  }
 ],
 "metadata": {
  "kernelspec": {
   "display_name": "Python 3",
   "language": "python",
   "name": "python3"
  },
  "language_info": {
   "codemirror_mode": {
    "name": "ipython",
    "version": 3
   },
   "file_extension": ".py",
   "mimetype": "text/x-python",
   "name": "python",
   "nbconvert_exporter": "python",
   "pygments_lexer": "ipython3",
   "version": "3.9.13"
  },
  "orig_nbformat": 4
 },
 "nbformat": 4,
 "nbformat_minor": 2
}
